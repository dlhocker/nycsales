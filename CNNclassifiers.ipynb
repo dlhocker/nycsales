{
 "cells": [
  {
   "cell_type": "code",
   "execution_count": 1,
   "metadata": {
    "collapsed": true
   },
   "outputs": [],
   "source": [
    "#notebook to show how CNN classifiers can be used to predict aspects of the building sales\n",
    "import matplotlib.pyplot as plt\n",
    "import matplotlib.dates\n",
    "import numpy as np\n",
    "import pandas as pd\n",
    "import tensorflow as tf\n",
    "from geopy.geocoders import Nominatim\n",
    "import datetime\n",
    "import nycsales as nyc\n",
    "from scipy import stats\n",
    "from sklearn.cluster import KMeans\n",
    "from sklearn.model_selection import train_test_split\n",
    "\n",
    "#join 2015 data with the longitude and latitutde data from building shapefile\n",
    "#fname = 'data/2015_brooklyn.csv'\n",
    "#bk = pd.read_csv(fname,sep = ',')\n",
    "#shapecsvname = 'data/BuildingFootprints_augmented.csv'\n",
    "#bknew = nyc.join_latlong(bk,shapecsvname)\n",
    "\n",
    "#a previously saved version is here, to keep large files out of the git repo\n",
    "bknew = pd.read_csv('data/bk15_augmented.csv',sep = ',')\n"
   ]
  },
  {
   "cell_type": "code",
   "execution_count": 2,
   "metadata": {},
   "outputs": [
    {
     "data": {
      "image/png": "[encoded data removed]",
      "text/plain": [
       "<matplotlib.figure.Figure at 0x11d198350>"
      ]
     },
     "metadata": {},
     "output_type": "display_data"
    }
   ],
   "source": [
    "#First classifier: predict price category based on geographic and building features\n",
    "## try and prep data to run through a deep neural net classifier to predict \n",
    "#\"category\" of cheap, medium cheap, expensive, real expensive prices\n",
    "\n",
    "#convert saledate to datetime\n",
    "bknew['SALE DATE'] =pd.to_datetime(bknew['SALE DATE'])\n",
    "\n",
    "#mask to clean data\n",
    "test1 = bknew['SALE PRICE'] > 0.0 \n",
    "test2 = bknew['GROSS SQUARE FEET'] > 0.0\n",
    "test3 = ~np.isnan(bknew['SALE PRICE'])\n",
    "test4 = ~np.isnan(bknew['GROSS SQUARE FEET'])\n",
    "test = test1 & test2 & test3 & test4\n",
    "\n",
    "#paramlist = ['RESIDENTIAL UNITS','COMMERCIAL UNITS','TOTAL UNITS','LAND SQUARE FEET',\n",
    "#                    'GROSS SQUARE FEET','YEAR BUILT','SALE DATE','long','lat']\n",
    "\n",
    "paramlist = ['RESIDENTIAL UNITS','COMMERCIAL UNITS','TOTAL UNITS','LAND SQUARE FEET',\n",
    "                    'GROSS SQUARE FEET','YEAR BUILT','long','lat']\n",
    "class_dat = bknew.loc[test,paramlist]\n",
    "class_dat = class_dat.rename(index=str, columns={\"RESIDENTIAL UNITS\": \"resunits\", \n",
    "                                     \"COMMERCIAL UNITS\": \"communits\",\n",
    "                                    \"TOTAL UNITS\":\"totalunits\",\n",
    "                                    \"LAND SQUARE FEET\":\"landsquarefeet\",\n",
    "                                    \"GROSS SQUARE FEET\":\"grosssquarefeet\",\n",
    "                                    \"YEAR BUILT\":\"yearbuilt\",\n",
    "                                    \"SALE DATE\":\"saledate\"})\n",
    "#create labels. bin prices into 5 categories using k-means\n",
    "nclasses = 4\n",
    "prices_kmeans = bknew.loc[test,'SALE PRICE']\n",
    "kmeans = KMeans(n_clusters=nclasses, random_state=0).fit(np.array(prices_kmeans).reshape(-1, 1))\n",
    "class_labels = pd.Series(kmeans.labels_)\n",
    "\n",
    "#check and see what the categories are like. if they overlap. they do, especially 3\n",
    "plt.scatter(class_labels,prices_kmeans)\n",
    "plt.xlabel('category')\n",
    "plt.ylabel('prices')\n",
    "plt.xticks([0,1,2,3])\n",
    "plt.show()\n",
    "\n",
    "\n",
    "#partition data into 80% training and 20% testing.\n",
    "train_dat, test_dat, train_labels, test_labels = train_test_split(\n",
    "    class_dat, class_labels, test_size=0.2, random_state=42)\n",
    "\n"
   ]
  },
  {
   "cell_type": "code",
   "execution_count": 3,
   "metadata": {},
   "outputs": [
    {
     "name": "stdout",
     "output_type": "stream",
     "text": [
      "INFO:tensorflow:Using default config.\n",
      "WARNING:tensorflow:Using temporary folder as model directory: /var/folders/_x/hjcw_nn146jgqk4lp69ghtxr0000gn/T/tmpuR8DaA\n",
      "INFO:tensorflow:Using config: {'_save_checkpoints_secs': 600, '_session_config': None, '_keep_checkpoint_max': 5, '_task_type': 'worker', '_global_id_in_cluster': 0, '_is_chief': True, '_cluster_spec': <tensorflow.python.training.server_lib.ClusterSpec object at 0x104011210>, '_evaluation_master': '', '_save_checkpoints_steps': None, '_keep_checkpoint_every_n_hours': 10000, '_service': None, '_num_ps_replicas': 0, '_tf_random_seed': None, '_master': '', '_num_worker_replicas': 1, '_task_id': 0, '_log_step_count_steps': 100, '_model_dir': '/var/folders/_x/hjcw_nn146jgqk4lp69ghtxr0000gn/T/tmpuR8DaA', '_save_summary_steps': 100}\n",
      "INFO:tensorflow:Calling model_fn.\n",
      "INFO:tensorflow:Done calling model_fn.\n",
      "INFO:tensorflow:Create CheckpointSaverHook.\n",
      "INFO:tensorflow:Graph was finalized.\n",
      "INFO:tensorflow:Running local_init_op.\n",
      "INFO:tensorflow:Done running local_init_op.\n",
      "INFO:tensorflow:Saving checkpoints for 1 into /var/folders/_x/hjcw_nn146jgqk4lp69ghtxr0000gn/T/tmpuR8DaA/model.ckpt.\n",
      "INFO:tensorflow:loss = 144949.98, step = 1\n",
      "INFO:tensorflow:global_step/sec: 159.735\n",
      "INFO:tensorflow:loss = 117.954544, step = 101 (0.627 sec)\n",
      "INFO:tensorflow:global_step/sec: 196.796\n",
      "INFO:tensorflow:loss = 90.28142, step = 201 (0.508 sec)\n",
      "INFO:tensorflow:global_step/sec: 146.234\n",
      "INFO:tensorflow:loss = 103.96489, step = 301 (0.684 sec)\n",
      "INFO:tensorflow:global_step/sec: 189.589\n",
      "INFO:tensorflow:loss = 177.90192, step = 401 (0.528 sec)\n",
      "INFO:tensorflow:global_step/sec: 183.482\n",
      "INFO:tensorflow:loss = 47.18721, step = 501 (0.545 sec)\n",
      "INFO:tensorflow:global_step/sec: 196.178\n",
      "INFO:tensorflow:loss = 65.26677, step = 601 (0.510 sec)\n",
      "INFO:tensorflow:global_step/sec: 194.273\n",
      "INFO:tensorflow:loss = 59.29621, step = 701 (0.515 sec)\n",
      "INFO:tensorflow:global_step/sec: 194.266\n",
      "INFO:tensorflow:loss = 136.49684, step = 801 (0.515 sec)\n",
      "INFO:tensorflow:global_step/sec: 184.856\n",
      "INFO:tensorflow:loss = 43.609596, step = 901 (0.541 sec)\n",
      "INFO:tensorflow:Saving checkpoints for 1000 into /var/folders/_x/hjcw_nn146jgqk4lp69ghtxr0000gn/T/tmpuR8DaA/model.ckpt.\n",
      "INFO:tensorflow:Loss for final step: 51.94056.\n"
     ]
    },
    {
     "data": {
      "text/plain": [
       "<tensorflow.python.estimator.canned.dnn.DNNClassifier at 0x103bd8590>"
      ]
     },
     "execution_count": 3,
     "metadata": {},
     "output_type": "execute_result"
    }
   ],
   "source": [
    "#Training setup\n",
    "\n",
    "batchsize = 500 #number of trials per training batch\n",
    "nsteps = 1000\n",
    "\n",
    "# Feature columns describe how to use the input.\n",
    "my_feature_columns = []\n",
    "for key in train_dat.keys():\n",
    "    my_feature_columns.append(tf.feature_column.numeric_column(key=key))\n",
    "    \n",
    "#The trainign input function\n",
    "def train_input_fn(features, labels, batch_size):\n",
    "    \"\"\"An input function for training\"\"\"\n",
    "    # Convert the inputs to a Dataset.\n",
    "    dataset = tf.data.Dataset.from_tensor_slices((dict(features), labels))\n",
    "\n",
    "    # Shuffle, repeat, and batch the examples.\n",
    "    dataset = dataset.shuffle(1000).repeat().batch(batch_size)\n",
    "\n",
    "    # Return the dataset.\n",
    "    return dataset\n",
    "\n",
    "input_fn=lambda:train_input_fn(train_dat, train_labels,\n",
    "                                             batchsize)\n",
    "\n",
    "# Build 6 hidden layer DNN with 10, 10 units respectively.\n",
    "classifier = tf.estimator.DNNClassifier(\n",
    "    feature_columns=my_feature_columns,\n",
    "    # 6 hidden layers of 10 nodes each.\n",
    "    hidden_units=[10,10,10,10,10,10],\n",
    "    # The model must choose between 3 classes.\n",
    "    n_classes=nclasses)\n",
    "\n",
    "# # Train the Model.\n",
    "classifier.train(input_fn,steps=nsteps)"
   ]
  },
  {
   "cell_type": "code",
   "execution_count": 4,
   "metadata": {},
   "outputs": [
    {
     "name": "stdout",
     "output_type": "stream",
     "text": [
      "evaluation of training data-------------\n",
      "INFO:tensorflow:Calling model_fn.\n",
      "INFO:tensorflow:Done calling model_fn.\n",
      "INFO:tensorflow:Starting evaluation at 2018-04-10-22:42:59\n",
      "INFO:tensorflow:Graph was finalized.\n",
      "INFO:tensorflow:Restoring parameters from /var/folders/_x/hjcw_nn146jgqk4lp69ghtxr0000gn/T/tmpuR8DaA/model.ckpt-1000\n",
      "INFO:tensorflow:Running local_init_op.\n",
      "INFO:tensorflow:Done running local_init_op.\n",
      "INFO:tensorflow:Finished evaluation at 2018-04-10-22:43:00\n",
      "INFO:tensorflow:Saving dict for global step 1000: accuracy = 0.9649606, average_loss = 0.11479951, global_step = 1000, loss = 57.33518\n",
      "evaluation of testing data---------------\n",
      "INFO:tensorflow:Calling model_fn.\n",
      "INFO:tensorflow:Done calling model_fn.\n",
      "INFO:tensorflow:Starting evaluation at 2018-04-10-22:43:01\n",
      "INFO:tensorflow:Graph was finalized.\n",
      "INFO:tensorflow:Restoring parameters from /var/folders/_x/hjcw_nn146jgqk4lp69ghtxr0000gn/T/tmpuR8DaA/model.ckpt-1000\n",
      "INFO:tensorflow:Running local_init_op.\n",
      "INFO:tensorflow:Done running local_init_op.\n",
      "INFO:tensorflow:Finished evaluation at 2018-04-10-22:43:01\n",
      "INFO:tensorflow:Saving dict for global step 1000: accuracy = 0.9634635, average_loss = 0.11697005, global_step = 1000, loss = 58.42654\n"
     ]
    }
   ],
   "source": [
    "#Evaluate the testing data\n",
    "\n",
    "#input function to prepare data for evluation phase\n",
    "def eval_input_fn(features, labels, batch_size):\n",
    "    \"\"\"An input function for evaluation or prediction\"\"\"\n",
    "    features=dict(features)\n",
    "    if labels is None:\n",
    "        # No labels, use only features.\n",
    "        inputs = features\n",
    "    else:\n",
    "        inputs = (features, labels)\n",
    "\n",
    "    # Convert the inputs to a Dataset.\n",
    "    dataset = tf.data.Dataset.from_tensor_slices(inputs)\n",
    "\n",
    "    # Batch the examples\n",
    "    assert batch_size is not None, \"batch_size must not be None\"\n",
    "    dataset = dataset.batch(batch_size)\n",
    "\n",
    "    # Return the dataset.\n",
    "    return dataset\n",
    "\n",
    "\n",
    "# Evaluate the model, check accuracy of training data\n",
    "print('evaluation of training data-------------')\n",
    "\n",
    "eval_result = classifier.evaluate(\n",
    "   input_fn=lambda:eval_input_fn(train_dat, train_labels,\n",
    "                                batchsize))\n",
    "\n",
    "#now check performance for testing data\n",
    "print('evaluation of testing data---------------')\n",
    "eval_result = classifier.evaluate(\n",
    "   input_fn=lambda:eval_input_fn(test_dat, test_labels,\n",
    "                                batchsize))\n",
    "\n"
   ]
  },
  {
   "cell_type": "code",
   "execution_count": null,
   "metadata": {
    "collapsed": true
   },
   "outputs": [],
   "source": []
  }
 ],
 "metadata": {
  "kernelspec": {
   "display_name": "tensorflow1.5",
   "language": "python",
   "name": "tensorflow1.5"
  },
  "language_info": {
   "codemirror_mode": {
    "name": "ipython",
    "version": 2
   },
   "file_extension": ".py",
   "mimetype": "text/x-python",
   "name": "python",
   "nbconvert_exporter": "python",
   "pygments_lexer": "ipython2",
   "version": "2.7.15"
  }
 },
 "nbformat": 4,
 "nbformat_minor": 2
}
