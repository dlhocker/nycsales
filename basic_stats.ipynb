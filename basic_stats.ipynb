{
 "cells": [
  {
   "cell_type": "code",
   "execution_count": 57,
   "metadata": {
    "collapsed": true
   },
   "outputs": [],
   "source": [
    "import matplotlib.pyplot as plt\n",
    "import matplotlib.dates\n",
    "import numpy as np\n",
    "import pandas as pd\n",
    "import tensorflow as tf\n",
    "from geopy.geocoders import Nominatim\n",
    "import datetime\n",
    "\n",
    "#basic test to load a frame and check prices with a histogram\n",
    "#testframe = pd.read_csv('2015_manhattan.csv',sep = ',')\n",
    "#sales = testframe['SALE PRICE']\n",
    "#hist = np.histogram(sales)\n",
    "#n, bins, patches = plt.hist(sales, 20, normed=1)\n",
    "\n",
    "#concat the brooklyn data frames\n",
    "years = ['06','07','08','09','10','11','12','13','14','15']\n",
    "nyears = len(years)\n",
    "\n",
    "bk15 = pd.read_csv('data/2015_brooklyn.csv',sep = ',')\n",
    "bx15 = pd.read_csv('data/2015_bronx.csv',sep = ',')\n",
    "m15 = pd.read_csv('data/2015_manhattan.csv',sep = ',')\n",
    "q15 = pd.read_csv('data/2015_queens.csv',sep = ',')\n",
    "si15 = pd.read_csv('data/2015_statenisland.csv',sep = ',')\n",
    "\n",
    "\n",
    "all_15 = pd.concat([m15,bx15,bk15,q15,si15])\n",
    "\n",
    "def toDateTime(S):\n",
    "    #will return list of datetime objects\n",
    "    import pandas as pd\n",
    "    import numpy as np\n",
    "    from datetime import datetime\n",
    "    \n",
    "    Slist = S.tolist()\n",
    "    n = len(Slist)\n",
    "    dates = []\n",
    "    for j in range(n):\n",
    "        dates.append(datetime.strptime(Slist[j],'%Y-%m-%d'))\n",
    "    \n",
    "    return dates\n",
    "\n",
    "#convert building and lot number to lat. long.\n",
    "\n",
    "#plot color map of prices in neighborhood\n",
    "\n",
    "#plot basic stats of prices\n",
    "\n",
    "#kmeans: covariate choices\n",
    "#lat and long, tax class, block, building class, borough, neighborhood, gross sq. ft, total units, pice , date\n",
    "\n",
    "\n"
   ]
  },
  {
   "cell_type": "code",
   "execution_count": 51,
   "metadata": {},
   "outputs": [],
   "source": [
    "#calculate mean and variance for each year, by neighborhood\n",
    "\n",
    "years = ['06','07','08','09','10','11','12','13','14','15']\n",
    "#years = ['11','12','13','14','15']\n",
    "nyears = len(years)\n",
    "sales_mean = np.zeros((nyears,))\n",
    "sales_std = np.zeros((nyears,))\n",
    "for i in range(nyears):\n",
    "    #print(i)\n",
    "    fname = 'data/20'+years[i]+'_brooklyn.csv'\n",
    "    bk = pd.read_csv(fname,sep = ',')\n",
    "    sales_bk = bk.loc[bk['SALE PRICE']> 0,'SALE PRICE']\n",
    "    sales_mean[i] = np.mean(sales_bk)\n",
    "    sales_std[i]  = np.std(sales_bk)\n",
    "    \n",
    "#print(sales_mean)\n",
    "#print(sales_std)\n",
    "\n"
   ]
  },
  {
   "cell_type": "code",
   "execution_count": 75,
   "metadata": {},
   "outputs": [
    {
     "data": {
      "image/png": "[encoded data removed]",
      "text/plain": [
       "<matplotlib.figure.Figure at 0x11ff9a750>"
      ]
     },
     "metadata": {},
     "output_type": "display_data"
    },
    {
     "data": {
      "image/png": "[encoded data removed]",
      "text/plain": [
       "<matplotlib.figure.Figure at 0x12799aed0>"
      ]
     },
     "metadata": {},
     "output_type": "display_data"
    }
   ],
   "source": [
    "fname = 'data/2011'+'_brooklyn.csv'\n",
    "bk = pd.read_csv(fname,sep = ',')\n",
    "test = bk.loc[bk['SALE PRICE']> 0,['SALE PRICE','SALE DATE']]\n",
    "datelist = toDateTime(test['SALE DATE'])\n",
    "dateprices = test['SALE PRICE'].tolist()\n",
    "#datetime.datetime.strptime(test[0],'%Y-%m-%d')\n",
    "\n",
    "#dates = matplotlib.dates.date2num(test)\n",
    "plt.scatter(datelist,dateprices,marker='.',s=10)\n",
    "plt.show()\n",
    "\n",
    "#sort by date\n",
    "bk['SALE DATE'] =pd.to_datetime(bk['SALE DATE'])\n",
    "bk.sort_values('SALE DATE')\n",
    "bk.plot('SALE DATE','SALE PRICE')\n",
    "plt.show()\n",
    "\n"
   ]
  },
  {
   "cell_type": "code",
   "execution_count": null,
   "metadata": {
    "collapsed": true
   },
   "outputs": [],
   "source": []
  }
 ],
 "metadata": {
  "kernelspec": {
   "display_name": "Python [conda env:tensorflow1.1]",
   "language": "python",
   "name": "conda-env-tensorflow1.1-py"
  },
  "language_info": {
   "codemirror_mode": {
    "name": "ipython",
    "version": 2
   },
   "file_extension": ".py",
   "mimetype": "text/x-python",
   "name": "python",
   "nbconvert_exporter": "python",
   "pygments_lexer": "ipython2",
   "version": "2.7.13"
  }
 },
 "nbformat": 4,
 "nbformat_minor": 2
}
